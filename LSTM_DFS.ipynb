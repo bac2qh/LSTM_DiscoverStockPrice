{
 "cells": [
  {
   "cell_type": "markdown",
   "metadata": {},
   "source": [
    "https://towardsdatascience.com/lstm-time-series-forecasting-predicting-stock-prices-using-an-lstm-model-6223e9644a2f"
   ]
  },
  {
   "cell_type": "code",
   "execution_count": 1,
   "metadata": {},
   "outputs": [],
   "source": [
    "import math\n",
    "import matplotlib.pyplot as plt\n",
    "import keras\n",
    "import pandas as pd\n",
    "import numpy as np\n",
    "from keras.models import Sequential\n",
    "from keras.layers import Dense\n",
    "from keras.layers import LSTM\n",
    "from keras.layers import Dropout\n",
    "from keras.layers import *\n",
    "from sklearn.preprocessing import MinMaxScaler\n",
    "from sklearn.metrics import mean_squared_error\n",
    "from sklearn.metrics import mean_absolute_error\n",
    "from sklearn.model_selection import train_test_split\n",
    "from keras.callbacks import EarlyStopping"
   ]
  },
  {
   "cell_type": "code",
   "execution_count": 2,
   "metadata": {},
   "outputs": [],
   "source": [
    "import os \n",
    "import subprocess as ss"
   ]
  },
  {
   "cell_type": "code",
   "execution_count": 3,
   "metadata": {},
   "outputs": [
    {
     "data": {
      "text/plain": [
       "['project_venv',\n",
       " 'LSTM.ipynb',\n",
       " 'DFS.csv',\n",
       " 'README.md',\n",
       " '.ipynb_checkpoints',\n",
       " '.git']"
      ]
     },
     "execution_count": 3,
     "metadata": {},
     "output_type": "execute_result"
    }
   ],
   "source": [
    "os.listdir()"
   ]
  },
  {
   "cell_type": "code",
   "execution_count": 4,
   "metadata": {},
   "outputs": [
    {
     "name": "stdout",
     "output_type": "stream",
     "text": [
      "Number of rows and columns: (3416, 7)\n"
     ]
    },
    {
     "data": {
      "text/html": [
       "<div>\n",
       "<style scoped>\n",
       "    .dataframe tbody tr th:only-of-type {\n",
       "        vertical-align: middle;\n",
       "    }\n",
       "\n",
       "    .dataframe tbody tr th {\n",
       "        vertical-align: top;\n",
       "    }\n",
       "\n",
       "    .dataframe thead th {\n",
       "        text-align: right;\n",
       "    }\n",
       "</style>\n",
       "<table border=\"1\" class=\"dataframe\">\n",
       "  <thead>\n",
       "    <tr style=\"text-align: right;\">\n",
       "      <th></th>\n",
       "      <th>Date</th>\n",
       "      <th>Open</th>\n",
       "      <th>High</th>\n",
       "      <th>Low</th>\n",
       "      <th>Close</th>\n",
       "      <th>Adj Close</th>\n",
       "      <th>Volume</th>\n",
       "    </tr>\n",
       "  </thead>\n",
       "  <tbody>\n",
       "    <tr>\n",
       "      <td>0</td>\n",
       "      <td>2007-06-14</td>\n",
       "      <td>28.000000</td>\n",
       "      <td>30.500000</td>\n",
       "      <td>28.000000</td>\n",
       "      <td>28.750000</td>\n",
       "      <td>22.875103</td>\n",
       "      <td>3279100</td>\n",
       "    </tr>\n",
       "    <tr>\n",
       "      <td>1</td>\n",
       "      <td>2007-06-15</td>\n",
       "      <td>29.500000</td>\n",
       "      <td>29.799999</td>\n",
       "      <td>28.879999</td>\n",
       "      <td>29.080000</td>\n",
       "      <td>23.137667</td>\n",
       "      <td>790100</td>\n",
       "    </tr>\n",
       "    <tr>\n",
       "      <td>2</td>\n",
       "      <td>2007-06-18</td>\n",
       "      <td>29.320000</td>\n",
       "      <td>30.200001</td>\n",
       "      <td>29.299999</td>\n",
       "      <td>29.930000</td>\n",
       "      <td>23.813976</td>\n",
       "      <td>1591000</td>\n",
       "    </tr>\n",
       "    <tr>\n",
       "      <td>3</td>\n",
       "      <td>2007-06-19</td>\n",
       "      <td>30.000000</td>\n",
       "      <td>30.299999</td>\n",
       "      <td>29.600000</td>\n",
       "      <td>29.700001</td>\n",
       "      <td>23.630968</td>\n",
       "      <td>1585100</td>\n",
       "    </tr>\n",
       "    <tr>\n",
       "      <td>4</td>\n",
       "      <td>2007-06-20</td>\n",
       "      <td>30.040001</td>\n",
       "      <td>30.100000</td>\n",
       "      <td>29.570000</td>\n",
       "      <td>29.809999</td>\n",
       "      <td>23.718491</td>\n",
       "      <td>855900</td>\n",
       "    </tr>\n",
       "  </tbody>\n",
       "</table>\n",
       "</div>"
      ],
      "text/plain": [
       "         Date       Open       High        Low      Close  Adj Close   Volume\n",
       "0  2007-06-14  28.000000  30.500000  28.000000  28.750000  22.875103  3279100\n",
       "1  2007-06-15  29.500000  29.799999  28.879999  29.080000  23.137667   790100\n",
       "2  2007-06-18  29.320000  30.200001  29.299999  29.930000  23.813976  1591000\n",
       "3  2007-06-19  30.000000  30.299999  29.600000  29.700001  23.630968  1585100\n",
       "4  2007-06-20  30.040001  30.100000  29.570000  29.809999  23.718491   855900"
      ]
     },
     "execution_count": 4,
     "metadata": {},
     "output_type": "execute_result"
    }
   ],
   "source": [
    "df=pd.read_csv(\"DFS.csv\")\n",
    "print('Number of rows and columns:', df.shape)\n",
    "df.head(5)"
   ]
  },
  {
   "cell_type": "code",
   "execution_count": 30,
   "metadata": {},
   "outputs": [],
   "source": [
    "train_len = int(len(df) * 0.8)\n",
    "training_set = df.iloc[:train_len, 4:5].values\n",
    "test_set = df.iloc[train_len:, 4:5].values"
   ]
  },
  {
   "cell_type": "code",
   "execution_count": 9,
   "metadata": {},
   "outputs": [],
   "source": [
    "# Feature Scaling\n",
    "sc = MinMaxScaler(feature_range = (0, 1))\n",
    "training_set_scaled = sc.fit_transform(training_set)\n",
    "# Creating a data structure with 60 time-steps and 1 output\n",
    "X_train = []\n",
    "y_train = []\n",
    "for i in range(60, train_len):\n",
    "    X_train.append(training_set_scaled[i-60:i, 0])\n",
    "    y_train.append(training_set_scaled[i, 0])\n",
    "X_train, y_train = np.array(X_train), np.array(y_train)\n",
    "X_train = np.reshape(X_train, (X_train.shape[0], X_train.shape[1], 1))"
   ]
  },
  {
   "cell_type": "code",
   "execution_count": 46,
   "metadata": {},
   "outputs": [
    {
     "name": "stdout",
     "output_type": "stream",
     "text": [
      "(624, 60, 1)\n"
     ]
    }
   ],
   "source": [
    "test_set_scaled = sc.transform(test_set)\n",
    "X_test = []\n",
    "y_test = []\n",
    "for i in range(60, len(test_set)):\n",
    "    X_test.append(test_set_scaled[i-60:i, 0])\n",
    "    y_test.append(test_set[i, 0])\n",
    "X_test, y_test = np.array(X_test), np.array(y_test)\n",
    "X_test = np.reshape(X_test, ((X_test.shape)[0], (X_test.shape)[1], 1))\n",
    "print(X_test.shape)"
   ]
  },
  {
   "cell_type": "code",
   "execution_count": 11,
   "metadata": {},
   "outputs": [
    {
     "name": "stdout",
     "output_type": "stream",
     "text": [
      "Epoch 1/100\n",
      "84/84 [==============================] - 12s 80ms/step - loss: 0.0511\n",
      "Epoch 2/100\n",
      "84/84 [==============================] - 8s 92ms/step - loss: 0.0036\n",
      "Epoch 3/100\n",
      "84/84 [==============================] - 7s 79ms/step - loss: 0.0030\n",
      "Epoch 4/100\n",
      "84/84 [==============================] - 7s 78ms/step - loss: 0.0030\n",
      "Epoch 5/100\n",
      "84/84 [==============================] - 7s 79ms/step - loss: 0.0029\n",
      "Epoch 6/100\n",
      "84/84 [==============================] - 7s 79ms/step - loss: 0.0029\n",
      "Epoch 7/100\n",
      "84/84 [==============================] - 7s 79ms/step - loss: 0.0027\n",
      "Epoch 8/100\n",
      "84/84 [==============================] - 7s 78ms/step - loss: 0.0023\n",
      "Epoch 9/100\n",
      "84/84 [==============================] - 7s 78ms/step - loss: 0.0025\n",
      "Epoch 10/100\n",
      "84/84 [==============================] - 7s 78ms/step - loss: 0.0022\n",
      "Epoch 11/100\n",
      "84/84 [==============================] - 7s 79ms/step - loss: 0.0021\n",
      "Epoch 12/100\n",
      "84/84 [==============================] - 7s 84ms/step - loss: 0.0023\n",
      "Epoch 13/100\n",
      "84/84 [==============================] - 7s 81ms/step - loss: 0.0024\n",
      "Epoch 14/100\n",
      "84/84 [==============================] - 6s 74ms/step - loss: 0.0020\n",
      "Epoch 15/100\n",
      "84/84 [==============================] - 6s 74ms/step - loss: 0.0017\n",
      "Epoch 16/100\n",
      "84/84 [==============================] - 6s 74ms/step - loss: 0.0017\n",
      "Epoch 17/100\n",
      "84/84 [==============================] - 6s 73ms/step - loss: 0.0018\n",
      "Epoch 18/100\n",
      "84/84 [==============================] - 6s 72ms/step - loss: 0.0016\n",
      "Epoch 19/100\n",
      "84/84 [==============================] - 6s 73ms/step - loss: 0.0018\n",
      "Epoch 20/100\n",
      "84/84 [==============================] - 6s 72ms/step - loss: 0.0018\n",
      "Epoch 21/100\n",
      "84/84 [==============================] - 6s 73ms/step - loss: 0.0015\n",
      "Epoch 22/100\n",
      "84/84 [==============================] - 6s 72ms/step - loss: 0.0018\n",
      "Epoch 23/100\n",
      "84/84 [==============================] - 6s 72ms/step - loss: 0.0015\n",
      "Epoch 24/100\n",
      "84/84 [==============================] - 6s 72ms/step - loss: 0.0015\n",
      "Epoch 25/100\n",
      "84/84 [==============================] - 6s 71ms/step - loss: 0.0014\n",
      "Epoch 26/100\n",
      "84/84 [==============================] - 6s 72ms/step - loss: 0.0014\n",
      "Epoch 27/100\n",
      "84/84 [==============================] - 6s 72ms/step - loss: 0.0016\n",
      "Epoch 28/100\n",
      "84/84 [==============================] - 6s 71ms/step - loss: 0.0016\n",
      "Epoch 29/100\n",
      "84/84 [==============================] - 6s 71ms/step - loss: 0.0014\n",
      "Epoch 30/100\n",
      "84/84 [==============================] - 6s 72ms/step - loss: 0.0013\n",
      "Epoch 31/100\n",
      "84/84 [==============================] - 6s 72ms/step - loss: 0.0014\n",
      "Epoch 32/100\n",
      "84/84 [==============================] - 6s 72ms/step - loss: 0.0014\n",
      "Epoch 33/100\n",
      "84/84 [==============================] - 6s 72ms/step - loss: 0.0013\n",
      "Epoch 34/100\n",
      "84/84 [==============================] - 6s 71ms/step - loss: 0.0014\n",
      "Epoch 35/100\n",
      "84/84 [==============================] - 6s 71ms/step - loss: 0.0013\n",
      "Epoch 36/100\n",
      "84/84 [==============================] - 6s 72ms/step - loss: 0.0014\n",
      "Epoch 37/100\n",
      "84/84 [==============================] - 6s 70ms/step - loss: 0.0013\n",
      "Epoch 38/100\n",
      "84/84 [==============================] - 6s 70ms/step - loss: 0.0013\n",
      "Epoch 39/100\n",
      "84/84 [==============================] - 6s 69ms/step - loss: 0.0011\n",
      "Epoch 40/100\n",
      "84/84 [==============================] - 6s 69ms/step - loss: 0.0013\n",
      "Epoch 41/100\n",
      "84/84 [==============================] - 6s 71ms/step - loss: 0.0012\n",
      "Epoch 42/100\n",
      "84/84 [==============================] - 6s 71ms/step - loss: 0.0011\n",
      "Epoch 43/100\n",
      "84/84 [==============================] - 6s 69ms/step - loss: 0.0012\n",
      "Epoch 44/100\n",
      "84/84 [==============================] - 6s 69ms/step - loss: 0.0011\n",
      "Epoch 45/100\n",
      "84/84 [==============================] - 6s 69ms/step - loss: 0.0012\n",
      "Epoch 46/100\n",
      "84/84 [==============================] - 6s 68ms/step - loss: 0.0011\n",
      "Epoch 47/100\n",
      "84/84 [==============================] - 6s 68ms/step - loss: 0.0010\n",
      "Epoch 48/100\n",
      "84/84 [==============================] - 6s 67ms/step - loss: 0.0011\n",
      "Epoch 49/100\n",
      "84/84 [==============================] - 6s 68ms/step - loss: 0.0010\n",
      "Epoch 50/100\n",
      "84/84 [==============================] - 6s 68ms/step - loss: 0.0010\n",
      "Epoch 51/100\n",
      "84/84 [==============================] - 6s 68ms/step - loss: 0.0011\n",
      "Epoch 52/100\n",
      "84/84 [==============================] - 6s 67ms/step - loss: 9.3550e-04\n",
      "Epoch 53/100\n",
      "84/84 [==============================] - 6s 68ms/step - loss: 0.0011\n",
      "Epoch 54/100\n",
      "84/84 [==============================] - 6s 67ms/step - loss: 0.0010\n",
      "Epoch 55/100\n",
      "84/84 [==============================] - 6s 67ms/step - loss: 0.0011\n",
      "Epoch 56/100\n",
      "84/84 [==============================] - 6s 67ms/step - loss: 0.0011\n",
      "Epoch 57/100\n",
      "84/84 [==============================] - 6s 68ms/step - loss: 9.0879e-04\n",
      "Epoch 58/100\n",
      "84/84 [==============================] - 6s 66ms/step - loss: 0.0010\n",
      "Epoch 59/100\n",
      "84/84 [==============================] - 6s 68ms/step - loss: 8.5493e-04\n",
      "Epoch 60/100\n",
      "84/84 [==============================] - 6s 67ms/step - loss: 0.0010\n",
      "Epoch 61/100\n",
      "84/84 [==============================] - 6s 66ms/step - loss: 9.1017e-04\n",
      "Epoch 62/100\n",
      "84/84 [==============================] - 6s 68ms/step - loss: 8.6904e-04\n",
      "Epoch 63/100\n",
      "84/84 [==============================] - 6s 68ms/step - loss: 9.0164e-04\n",
      "Epoch 64/100\n",
      "84/84 [==============================] - 6s 68ms/step - loss: 8.8508e-04\n",
      "Epoch 65/100\n",
      "84/84 [==============================] - 6s 67ms/step - loss: 9.7659e-04\n",
      "Epoch 66/100\n",
      "84/84 [==============================] - 6s 68ms/step - loss: 8.8689e-04\n",
      "Epoch 67/100\n",
      "84/84 [==============================] - 6s 68ms/step - loss: 9.5138e-04\n",
      "Epoch 68/100\n",
      "84/84 [==============================] - 6s 67ms/step - loss: 0.0011\n",
      "Epoch 69/100\n",
      "84/84 [==============================] - 6s 67ms/step - loss: 9.4873e-04\n",
      "Epoch 70/100\n",
      "84/84 [==============================] - 6s 71ms/step - loss: 8.6779e-04\n",
      "Epoch 71/100\n",
      "84/84 [==============================] - 6s 70ms/step - loss: 9.8961e-04\n",
      "Epoch 72/100\n",
      "84/84 [==============================] - 6s 69ms/step - loss: 8.4037e-04\n",
      "Epoch 73/100\n",
      "84/84 [==============================] - 6s 70ms/step - loss: 8.2728e-04\n",
      "Epoch 74/100\n",
      "84/84 [==============================] - 6s 70ms/step - loss: 8.7101e-04\n",
      "Epoch 75/100\n",
      "84/84 [==============================] - 6s 69ms/step - loss: 8.5805e-04\n",
      "Epoch 76/100\n",
      "84/84 [==============================] - 6s 67ms/step - loss: 8.5326e-04\n",
      "Epoch 77/100\n",
      "84/84 [==============================] - 6s 67ms/step - loss: 8.4669e-04\n",
      "Epoch 78/100\n",
      "84/84 [==============================] - 6s 68ms/step - loss: 7.7721e-04\n",
      "Epoch 79/100\n",
      "84/84 [==============================] - 6s 66ms/step - loss: 8.9480e-04\n",
      "Epoch 80/100\n",
      "84/84 [==============================] - 6s 66ms/step - loss: 8.2997e-04\n",
      "Epoch 81/100\n",
      "84/84 [==============================] - 6s 66ms/step - loss: 8.4284e-04\n",
      "Epoch 82/100\n",
      "84/84 [==============================] - 6s 66ms/step - loss: 7.5163e-04\n",
      "Epoch 83/100\n",
      "84/84 [==============================] - 6s 68ms/step - loss: 7.5766e-04\n",
      "Epoch 84/100\n",
      "84/84 [==============================] - 6s 72ms/step - loss: 8.6998e-04\n",
      "Epoch 85/100\n",
      "84/84 [==============================] - 6s 67ms/step - loss: 8.4311e-04\n",
      "Epoch 86/100\n",
      "84/84 [==============================] - 6s 68ms/step - loss: 7.6849e-04\n",
      "Epoch 87/100\n",
      "84/84 [==============================] - 6s 66ms/step - loss: 8.2187e-04\n",
      "Epoch 88/100\n",
      "84/84 [==============================] - 6s 67ms/step - loss: 7.5641e-04\n",
      "Epoch 89/100\n",
      "84/84 [==============================] - 6s 68ms/step - loss: 7.7424e-04\n",
      "Epoch 90/100\n",
      "84/84 [==============================] - 6s 66ms/step - loss: 8.0168e-04\n",
      "Epoch 91/100\n",
      "84/84 [==============================] - 6s 67ms/step - loss: 7.9016e-04\n",
      "Epoch 92/100\n",
      "84/84 [==============================] - 6s 67ms/step - loss: 9.8532e-04\n",
      "Epoch 93/100\n",
      "84/84 [==============================] - 6s 66ms/step - loss: 8.0106e-04\n",
      "Epoch 94/100\n",
      "84/84 [==============================] - 6s 66ms/step - loss: 8.0595e-04\n",
      "Epoch 95/100\n",
      "84/84 [==============================] - 6s 67ms/step - loss: 7.8667e-04\n",
      "Epoch 96/100\n",
      "84/84 [==============================] - 6s 67ms/step - loss: 7.7575e-04\n",
      "Epoch 97/100\n",
      "84/84 [==============================] - 5s 65ms/step - loss: 8.1580e-04\n",
      "Epoch 98/100\n",
      "84/84 [==============================] - 6s 66ms/step - loss: 8.8643e-04\n",
      "Epoch 99/100\n"
     ]
    },
    {
     "name": "stdout",
     "output_type": "stream",
     "text": [
      "84/84 [==============================] - 5s 64ms/step - loss: 8.1361e-04\n",
      "Epoch 100/100\n",
      "84/84 [==============================] - 5s 65ms/step - loss: 9.4109e-04\n"
     ]
    },
    {
     "data": {
      "text/plain": [
       "<tensorflow.python.keras.callbacks.History at 0x7f8420ff7850>"
      ]
     },
     "execution_count": 11,
     "metadata": {},
     "output_type": "execute_result"
    }
   ],
   "source": [
    "model = Sequential()\n",
    "#Adding the first LSTM layer and some Dropout regularisation\n",
    "model.add(LSTM(units = 50, return_sequences = True, input_shape = (X_train.shape[1], 1)))\n",
    "model.add(Dropout(0.2))\n",
    "# Adding a second LSTM layer and some Dropout regularisation\n",
    "model.add(LSTM(units = 50, return_sequences = True))\n",
    "model.add(Dropout(0.2))\n",
    "# Adding a third LSTM layer and some Dropout regularisation\n",
    "model.add(LSTM(units = 50, return_sequences = True))\n",
    "model.add(Dropout(0.2))\n",
    "# Adding a fourth LSTM layer and some Dropout regularisation\n",
    "model.add(LSTM(units = 50))\n",
    "model.add(Dropout(0.2))\n",
    "# Adding the output layer\n",
    "model.add(Dense(units = 1))\n",
    "\n",
    "# Compiling the RNN\n",
    "model.compile(optimizer = 'adam', loss = 'mean_squared_error')\n",
    "\n",
    "# Fitting the RNN to the Training set\n",
    "model.fit(X_train, y_train, epochs = 100, batch_size = 32)"
   ]
  },
  {
   "cell_type": "code",
   "execution_count": 47,
   "metadata": {},
   "outputs": [],
   "source": [
    "predicted_stock_price = model.predict(X_test)\n",
    "predicted_stock_price = sc.inverse_transform(predicted_stock_price)"
   ]
  },
  {
   "cell_type": "code",
   "execution_count": 48,
   "metadata": {},
   "outputs": [
    {
     "data": {
      "text/plain": [
       "(624, 60, 1)"
      ]
     },
     "execution_count": 48,
     "metadata": {},
     "output_type": "execute_result"
    }
   ],
   "source": [
    "X_test.shape"
   ]
  },
  {
   "cell_type": "code",
   "execution_count": 49,
   "metadata": {},
   "outputs": [
    {
     "data": {
      "text/plain": [
       "624"
      ]
     },
     "execution_count": 49,
     "metadata": {},
     "output_type": "execute_result"
    }
   ],
   "source": [
    "len(predicted_stock_price)"
   ]
  },
  {
   "cell_type": "code",
   "execution_count": 52,
   "metadata": {},
   "outputs": [
    {
     "data": {
      "text/plain": [
       "<matplotlib.legend.Legend at 0x7f842eba6510>"
      ]
     },
     "execution_count": 52,
     "metadata": {},
     "output_type": "execute_result"
    },
    {
     "data": {
      "image/png": "[encoded data removed]",
      "text/plain": [
       "<Figure size 432x288 with 1 Axes>"
      ]
     },
     "metadata": {
      "needs_background": "light"
     },
     "output_type": "display_data"
    }
   ],
   "source": [
    "plt.plot(predicted_stock_price, label='predict')\n",
    "plt.plot(y_test, label='actual')\n",
    "plt.legend()"
   ]
  },
  {
   "cell_type": "code",
   "execution_count": 55,
   "metadata": {},
   "outputs": [],
   "source": [
    "SE = 0\n",
    "for i in range(len(predicted_stock_price)):\n",
    "    SE += (predicted_stock_price[i] - y_test[i])**2"
   ]
  },
  {
   "cell_type": "code",
   "execution_count": 58,
   "metadata": {},
   "outputs": [
    {
     "data": {
      "text/plain": [
       "array([3.6118064], dtype=float32)"
      ]
     },
     "execution_count": 58,
     "metadata": {},
     "output_type": "execute_result"
    }
   ],
   "source": [
    "(SE/len(predicted_stock_price))**0.5"
   ]
  },
  {
   "cell_type": "code",
   "execution_count": null,
   "metadata": {},
   "outputs": [],
   "source": [
    "predicted_stock_price[i] - y_test[i]"
   ]
  }
 ],
 "metadata": {
  "kernelspec": {
   "display_name": "Python 3",
   "language": "python",
   "name": "python3"
  },
  "language_info": {
   "codemirror_mode": {
    "name": "ipython",
    "version": 3
   },
   "file_extension": ".py",
   "mimetype": "text/x-python",
   "name": "python",
   "nbconvert_exporter": "python",
   "pygments_lexer": "ipython3",
   "version": "3.7.4"
  }
 },
 "nbformat": 4,
 "nbformat_minor": 2
}
